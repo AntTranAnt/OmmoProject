{
 "cells": [
  {
   "cell_type": "code",
   "execution_count": 15,
   "metadata": {},
   "outputs": [],
   "source": [
    "import h5py\n",
    "import sys\n",
    "import os\n",
    "import csv\n",
    "import math"
   ]
  },
  {
   "cell_type": "code",
   "execution_count": 5,
   "metadata": {},
   "outputs": [
    {
     "name": "stdout",
     "output_type": "stream",
     "text": [
      "['Device_792888129_0']\n",
      "<HDF5 group \"/Device_792888129_0\" (9 members)>\n",
      "<HDF5 dataset \"Position\": shape (238, 1, 3), type \"<f4\">\n",
      "173.57560345305114\n",
      "-299.29685756138394\n",
      "-35.91537079690885\n"
     ]
    }
   ],
   "source": [
    "f = h5py.File('input/3.hdf5', 'r')\n",
    "# List of device groups\n",
    "deviceList = list(f.keys())\n",
    "print(deviceList)\n",
    "# Device 1\n",
    "device = f[deviceList[0]]\n",
    "print(device)\n",
    "# Position dataset of device 1\n",
    "dataset = device['Position']\n",
    "print(dataset)\n",
    "# Dataset of sample 1 of device 1\n",
    "sample1Dataset = dataset[:, 0, :]\n",
    "sampleNum = 0\n",
    "xSum = 0\n",
    "ySum = 0\n",
    "zSum = 0\n",
    "for sample in sample1Dataset:\n",
    "    sampleNum += 1\n",
    "    xSum += sample[0]\n",
    "    ySum += sample[1]\n",
    "    zSum += sample[2]\n",
    "print(xSum/sampleNum)\n",
    "print(ySum/sampleNum)\n",
    "print(zSum/sampleNum)"
   ]
  },
  {
   "cell_type": "code",
   "execution_count": 6,
   "metadata": {},
   "outputs": [],
   "source": [
    "csv_file = 'text.csv'\n",
    "shape = dataset.shape\n",
    "with open(csv_file, 'w', newline='') as file:\n",
    "    writer = csv.writer(file)\n",
    "    for i in range(shape[1]):\n",
    "        writer.writerows(dataset[:,0,:])"
   ]
  },
  {
   "cell_type": "code",
   "execution_count": 7,
   "metadata": {},
   "outputs": [],
   "source": [
    "class OutputDictionary:\n",
    "    def __init__(self):\n",
    "        self.data = {}\n",
    "    \n",
    "    def addFile(self, filename):\n",
    "        self.data[filename] = []\n",
    "    \n",
    "    def addDeviceAvg(self, filename, deviceName, avgList):\n",
    "        deviceDict = {deviceName: avgList}\n",
    "        self.data[filename].append(deviceDict)\n",
    "    \n",
    "    def __str__(self):\n",
    "        return str(self.data)"
   ]
  },
  {
   "cell_type": "code",
   "execution_count": 8,
   "metadata": {},
   "outputs": [
    {
     "name": "stdout",
     "output_type": "stream",
     "text": [
      "{'1.hdf5': [{'lights': [23, 54, 65]}, {'BAR': [232, 544, 625]}], '2.hdf5': [{'arm': [33, 56, 67]}]}\n"
     ]
    }
   ],
   "source": [
    "nest = OutputDictionary()\n",
    "nest.addFile(\"1.hdf5\")\n",
    "nest.addDeviceAvg(\"1.hdf5\", \"lights\", [23, 54, 65])\n",
    "nest.addDeviceAvg(\"1.hdf5\", \"BAR\", [232, 544, 625])\n",
    "nest.addFile(\"2.hdf5\")\n",
    "nest.addDeviceAvg(\"2.hdf5\", \"arm\", [33, 56, 67])\n",
    "print(nest)"
   ]
  },
  {
   "cell_type": "markdown",
   "metadata": {},
   "source": [
    "Max Distance Test"
   ]
  },
  {
   "cell_type": "code",
   "execution_count": 18,
   "metadata": {},
   "outputs": [],
   "source": [
    "class Sample:\n",
    "    def __init__(self, x, y, z):\n",
    "        self.x = x\n",
    "        self.y = y\n",
    "        self.z = z\n",
    "sampleList = []\n",
    "\n",
    "fileH = h5py.File('input/3.hdf5', 'r')\n",
    "deviceList = list(fileH.keys())\n",
    "# Loops through device groups in file\n",
    "for device in deviceList:\n",
    "    # Checks if device has Position dataset\n",
    "    tempDevice = fileH[device]\n",
    "    if 'Position' in tempDevice:\n",
    "        positionDataset = tempDevice['Position']\n",
    "        shape = positionDataset.shape\n",
    "        # Loops through each sensor in the device\n",
    "        sensorIndex = 1\n",
    "        for i in range(shape[sensorIndex]):\n",
    "            sensorDataset = positionDataset[:, i, :]\n",
    "            for sample in sensorDataset:\n",
    "                point = Sample(sample[0], sample[1], sample[2])\n",
    "                sampleList.append(point)\n",
    "\n",
    "def euclideanDistance(sample1, sample2):\n",
    "    x1, y1, z1 = sample1.x, sample1.y, sample1.z\n",
    "    x2, y2, z2 = sample2.x, sample2.y, sample2.z\n",
    "    squaredDistance = (x2 - x1)**2 + (y2-y1)**2 + (z2-z1)**2\n",
    "    return math.sqrt(squaredDistance)"
   ]
  },
  {
   "cell_type": "code",
   "execution_count": 23,
   "metadata": {},
   "outputs": [
    {
     "name": "stdout",
     "output_type": "stream",
     "text": [
      "0.9714033812329474\n"
     ]
    }
   ],
   "source": [
    "def maxDistance(sampleList):\n",
    "    n = len(sampleList)\n",
    "    maxDistance = 0\n",
    " \n",
    "    # Iterate over all possible pairs\n",
    "    for i in range(n):\n",
    "        for j in range(i + 1, n):\n",
    "             \n",
    "            # Update maxm\n",
    "            maxDistance = max(maxDistance, euclideanDistance(sampleList[i], sampleList[j]))\n",
    "    return maxDistance\n",
    "\n",
    "print(maxDistance(sampleList))"
   ]
  }
 ],
 "metadata": {
  "kernelspec": {
   "display_name": "Python 3",
   "language": "python",
   "name": "python3"
  },
  "language_info": {
   "codemirror_mode": {
    "name": "ipython",
    "version": 3
   },
   "file_extension": ".py",
   "mimetype": "text/x-python",
   "name": "python",
   "nbconvert_exporter": "python",
   "pygments_lexer": "ipython3",
   "version": "3.12.2"
  }
 },
 "nbformat": 4,
 "nbformat_minor": 2
}
